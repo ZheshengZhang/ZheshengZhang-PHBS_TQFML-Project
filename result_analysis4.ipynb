{
 "cells": [
  {
   "cell_type": "markdown",
   "metadata": {},
   "source": [
    "# Long Short Term Memory Model of stock prediction "
   ]
  },
  {
   "cell_type": "markdown",
   "metadata": {},
   "source": [
    "## Abnormal Stock\n",
    "## 300431.SZ BaoFeng Tech. "
   ]
  },
  {
   "cell_type": "code",
   "execution_count": 1,
   "metadata": {},
   "outputs": [],
   "source": [
    "import pandas as pd\n",
    "import numpy as np\n",
    "import matplotlib.pyplot as plt\n",
    "import tensorflow as tf"
   ]
  },
  {
   "cell_type": "code",
   "execution_count": 2,
   "metadata": {},
   "outputs": [],
   "source": [
    "rnn_unit = 10       #hidden layer level\n",
    "input_size = 6\n",
    "output_size = 1\n",
    "lr = 0.0005         #learning rate"
   ]
  },
  {
   "cell_type": "code",
   "execution_count": 4,
   "metadata": {},
   "outputs": [],
   "source": [
    "df=pd.read_csv('300431.csv')     \n",
    "data=df.iloc[:,1:8].values  \n",
    "n = len(df)\n",
    "train_ratio = 0.7   #decide the data ratio as training data\n",
    "save_name ='model_save4\\\\model.ckpt'\n",
    "cpt_name ='model_save4'"
   ]
  },
  {
   "cell_type": "markdown",
   "metadata": {},
   "source": [
    "## generating the standardized training data"
   ]
  },
  {
   "cell_type": "code",
   "execution_count": 5,
   "metadata": {},
   "outputs": [],
   "source": [
    "def get_train_data(batch_size=60, time_step=20, train_begin=0, train_end=int(n*train_ratio)):\n",
    "    batch_index=[]\n",
    "    data_train=data[train_begin:train_end]\n",
    "    normalized_train_data=(data_train-np.mean(data_train,axis=0))/np.std(data_train,axis=0)  \n",
    "    train_x,train_y=[],[]   \n",
    "    for i in range(len(normalized_train_data)-time_step):\n",
    "        if i % batch_size==0:\n",
    "            batch_index.append(i)\n",
    "        x = normalized_train_data[i:i+time_step,:input_size]\n",
    "        y = normalized_train_data[i:i+time_step,input_size,np.newaxis]\n",
    "        train_x.append(x.tolist())\n",
    "        train_y.append(y.tolist())\n",
    "    batch_index.append((len(normalized_train_data)-time_step))\n",
    "    return batch_index,train_x,train_y"
   ]
  },
  {
   "cell_type": "markdown",
   "metadata": {},
   "source": [
    "## generating the standardized test data"
   ]
  },
  {
   "cell_type": "code",
   "execution_count": 6,
   "metadata": {},
   "outputs": [],
   "source": [
    "def get_test_data(time_step=20, test_begin=int(n*train_ratio)):\n",
    "    data_test=data[test_begin:]\n",
    "    mean=np.mean(data_test,axis=0)\n",
    "    std=np.std(data_test,axis=0)\n",
    "    normalized_test_data=(data_test-mean)/std  \n",
    "    size=(len(normalized_test_data)+time_step-1)//time_step  \n",
    "    test_x,test_y=[],[]\n",
    "    for i in range(size-1):\n",
    "        x=normalized_test_data[i*time_step:(i+1)*time_step,:input_size]\n",
    "        y=normalized_test_data[i*time_step:(i+1)*time_step,input_size]\n",
    "        test_x.append(x.tolist())\n",
    "        test_y.extend(y)\n",
    "    test_x.append((normalized_test_data[(i+1)*time_step:,:input_size]).tolist())\n",
    "    test_y.extend((normalized_test_data[(i+1)*time_step:,input_size]).tolist())\n",
    "    return mean,std,test_x,test_y"
   ]
  },
  {
   "cell_type": "markdown",
   "metadata": {},
   "source": [
    "## setting the weights and biases"
   ]
  },
  {
   "cell_type": "code",
   "execution_count": 7,
   "metadata": {},
   "outputs": [],
   "source": [
    "weights={\n",
    "         'in':tf.Variable(tf.random_normal([input_size,rnn_unit])),\n",
    "         'out':tf.Variable(tf.random_normal([rnn_unit,1]))\n",
    "        }\n",
    "biases={\n",
    "        'in':tf.Variable(tf.constant(0.1,shape=[rnn_unit,])),\n",
    "        'out':tf.Variable(tf.constant(0.1,shape=[1,]))\n",
    "       }"
   ]
  },
  {
   "cell_type": "markdown",
   "metadata": {},
   "source": [
    "## set the LSTM model"
   ]
  },
  {
   "cell_type": "code",
   "execution_count": 8,
   "metadata": {},
   "outputs": [],
   "source": [
    "def lstm(X):\n",
    "    \n",
    "    batch_size=tf.shape(X)[0]\n",
    "    time_step=tf.shape(X)[1]\n",
    "    w_in=weights['in']\n",
    "    b_in=biases['in']\n",
    "    input=tf.reshape(X,[-1,input_size])  \n",
    "    input_rnn=tf.matmul(input,w_in)+b_in\n",
    "    input_rnn=tf.reshape(input_rnn,[-1,time_step,rnn_unit])  \n",
    "    cell=tf.nn.rnn_cell.BasicLSTMCell(rnn_unit)\n",
    "    init_state=cell.zero_state(batch_size,dtype=tf.float32)\n",
    "    output_rnn,final_states=tf.nn.dynamic_rnn(cell, input_rnn,initial_state=init_state, dtype=tf.float32)\n",
    "    output=tf.reshape(output_rnn,[-1,rnn_unit]) \n",
    "    w_out=weights['out']\n",
    "    b_out=biases['out']\n",
    "    pred=tf.matmul(output,w_out)+b_out\n",
    "    return pred,final_states"
   ]
  },
  {
   "cell_type": "markdown",
   "metadata": {},
   "source": [
    "## generating the training function"
   ]
  },
  {
   "cell_type": "code",
   "execution_count": 9,
   "metadata": {},
   "outputs": [],
   "source": [
    "def train_lstm(save_name, batch_size=60, time_step=20, train_begin=0, train_end=int(n*train_ratio), iteration=100):\n",
    "    X=tf.placeholder(tf.float32, shape=[None,time_step,input_size])\n",
    "    Y=tf.placeholder(tf.float32, shape=[None,time_step,output_size])\n",
    "    batch_index,train_x,train_y=get_train_data(batch_size, time_step, train_begin, train_end)\n",
    "    with tf.variable_scope(\"sec_lstm\"):\n",
    "        pred,_=lstm(X)\n",
    "    loss=tf.reduce_mean(tf.square(tf.reshape(pred,[-1])-tf.reshape(Y, [-1])))\n",
    "    train_op=tf.train.AdamOptimizer(lr).minimize(loss)\n",
    "    saver=tf.train.Saver(tf.global_variables(),max_to_keep=15)\n",
    "    #module_file = tf.train.latest_checkpoint()\n",
    "    with tf.Session() as sess:\n",
    "        sess.run(tf.global_variables_initializer())\n",
    "        #saver.restore(sess, module_file)\n",
    "        for i in range(iteration):     \n",
    "            for step in range(len(batch_index)-1):\n",
    "                _,loss_=sess.run([train_op,loss],feed_dict={X:train_x[batch_index[step]:batch_index[step+1]],Y:train_y[batch_index[step]:batch_index[step+1]]})\n",
    "            print(\"Number of iterations:\",i,\" loss:\",loss_)\n",
    "        print(\"model_save: \",saver.save(sess,save_name))\n",
    "        print(\"The train has finished\")"
   ]
  },
  {
   "cell_type": "markdown",
   "metadata": {},
   "source": [
    "## run the training\n",
    "### (there is still some troubles that if you want to re-train the model, you must re-open the jupyter notebook）"
   ]
  },
  {
   "cell_type": "code",
   "execution_count": 10,
   "metadata": {},
   "outputs": [
    {
     "name": "stdout",
     "output_type": "stream",
     "text": [
      "Number of iterations: 0  loss: 1.0160315\n",
      "Number of iterations: 1  loss: 0.90580624\n",
      "Number of iterations: 2  loss: 0.80519974\n",
      "Number of iterations: 3  loss: 0.71533626\n",
      "Number of iterations: 4  loss: 0.6363173\n",
      "Number of iterations: 5  loss: 0.5677784\n",
      "Number of iterations: 6  loss: 0.50910413\n",
      "Number of iterations: 7  loss: 0.45954552\n",
      "Number of iterations: 8  loss: 0.4182764\n",
      "Number of iterations: 9  loss: 0.38441536\n",
      "Number of iterations: 10  loss: 0.35703692\n",
      "Number of iterations: 11  loss: 0.3351883\n",
      "Number of iterations: 12  loss: 0.3179166\n",
      "Number of iterations: 13  loss: 0.30430555\n",
      "Number of iterations: 14  loss: 0.29351318\n",
      "Number of iterations: 15  loss: 0.2848038\n",
      "Number of iterations: 16  loss: 0.27756828\n",
      "Number of iterations: 17  loss: 0.27133077\n",
      "Number of iterations: 18  loss: 0.26574337\n",
      "Number of iterations: 19  loss: 0.26056972\n",
      "Number of iterations: 20  loss: 0.2556645\n",
      "Number of iterations: 21  loss: 0.2509506\n",
      "Number of iterations: 22  loss: 0.24639662\n",
      "Number of iterations: 23  loss: 0.24200003\n",
      "Number of iterations: 24  loss: 0.2377718\n",
      "Number of iterations: 25  loss: 0.23372824\n",
      "Number of iterations: 26  loss: 0.2298837\n",
      "Number of iterations: 27  loss: 0.22624874\n",
      "Number of iterations: 28  loss: 0.22282799\n",
      "Number of iterations: 29  loss: 0.2196208\n",
      "Number of iterations: 30  loss: 0.2166216\n",
      "Number of iterations: 31  loss: 0.21382047\n",
      "Number of iterations: 32  loss: 0.21120395\n",
      "Number of iterations: 33  loss: 0.20875645\n",
      "Number of iterations: 34  loss: 0.20646186\n",
      "Number of iterations: 35  loss: 0.20430547\n",
      "Number of iterations: 36  loss: 0.20227471\n",
      "Number of iterations: 37  loss: 0.20035942\n",
      "Number of iterations: 38  loss: 0.19855101\n",
      "Number of iterations: 39  loss: 0.1968418\n",
      "Number of iterations: 40  loss: 0.19522393\n",
      "Number of iterations: 41  loss: 0.19368939\n",
      "Number of iterations: 42  loss: 0.19222984\n",
      "Number of iterations: 43  loss: 0.19083717\n",
      "Number of iterations: 44  loss: 0.18950382\n",
      "Number of iterations: 45  loss: 0.18822303\n",
      "Number of iterations: 46  loss: 0.18698896\n",
      "Number of iterations: 47  loss: 0.18579645\n",
      "Number of iterations: 48  loss: 0.18464105\n",
      "Number of iterations: 49  loss: 0.18351862\n",
      "Number of iterations: 50  loss: 0.18242525\n",
      "Number of iterations: 51  loss: 0.18135767\n",
      "Number of iterations: 52  loss: 0.18031305\n",
      "Number of iterations: 53  loss: 0.17928946\n",
      "Number of iterations: 54  loss: 0.17828551\n",
      "Number of iterations: 55  loss: 0.17730024\n",
      "Number of iterations: 56  loss: 0.17633292\n",
      "Number of iterations: 57  loss: 0.17538176\n",
      "Number of iterations: 58  loss: 0.1744443\n",
      "Number of iterations: 59  loss: 0.17351718\n",
      "Number of iterations: 60  loss: 0.17259693\n",
      "Number of iterations: 61  loss: 0.17168075\n",
      "Number of iterations: 62  loss: 0.17076764\n",
      "Number of iterations: 63  loss: 0.16985798\n",
      "Number of iterations: 64  loss: 0.16895398\n",
      "Number of iterations: 65  loss: 0.16805911\n",
      "Number of iterations: 66  loss: 0.16717674\n",
      "Number of iterations: 67  loss: 0.16631001\n",
      "Number of iterations: 68  loss: 0.1654611\n",
      "Number of iterations: 69  loss: 0.16463119\n",
      "Number of iterations: 70  loss: 0.16382056\n",
      "Number of iterations: 71  loss: 0.16302873\n",
      "Number of iterations: 72  loss: 0.16225486\n",
      "Number of iterations: 73  loss: 0.16149771\n",
      "Number of iterations: 74  loss: 0.16075622\n",
      "Number of iterations: 75  loss: 0.16002953\n",
      "Number of iterations: 76  loss: 0.15931718\n",
      "Number of iterations: 77  loss: 0.1586191\n",
      "Number of iterations: 78  loss: 0.15793596\n",
      "Number of iterations: 79  loss: 0.15726925\n",
      "Number of iterations: 80  loss: 0.15662122\n",
      "Number of iterations: 81  loss: 0.15599447\n",
      "Number of iterations: 82  loss: 0.15539183\n",
      "Number of iterations: 83  loss: 0.15481515\n",
      "Number of iterations: 84  loss: 0.15426497\n",
      "Number of iterations: 85  loss: 0.15374036\n",
      "Number of iterations: 86  loss: 0.15323855\n",
      "Number of iterations: 87  loss: 0.15275586\n",
      "Number of iterations: 88  loss: 0.15228829\n",
      "Number of iterations: 89  loss: 0.15183204\n",
      "Number of iterations: 90  loss: 0.15138388\n",
      "Number of iterations: 91  loss: 0.15094131\n",
      "Number of iterations: 92  loss: 0.15050231\n",
      "Number of iterations: 93  loss: 0.15006548\n",
      "Number of iterations: 94  loss: 0.14962968\n",
      "Number of iterations: 95  loss: 0.14919426\n",
      "Number of iterations: 96  loss: 0.14875884\n",
      "Number of iterations: 97  loss: 0.14832321\n",
      "Number of iterations: 98  loss: 0.14788745\n",
      "Number of iterations: 99  loss: 0.14745189\n",
      "model_save:  model_save4\\model.ckpt\n",
      "The train has finished\n"
     ]
    }
   ],
   "source": [
    "train_lstm(save_name)"
   ]
  },
  {
   "cell_type": "markdown",
   "metadata": {},
   "source": [
    "## prediciton part"
   ]
  },
  {
   "cell_type": "code",
   "execution_count": 11,
   "metadata": {},
   "outputs": [],
   "source": [
    "def prediction(cpt_name, time_step=20):\n",
    "    X=tf.placeholder(tf.float32, shape=[None,time_step,input_size])\n",
    "    mean,std,test_x,test_y=get_test_data(time_step)\n",
    "    with tf.variable_scope(\"sec_lstm\",reuse=True):\n",
    "        pred,_=lstm(X)\n",
    "    saver=tf.train.Saver(tf.global_variables())\n",
    "    with tf.Session() as sess:\n",
    "        module_file = tf.train.latest_checkpoint(cpt_name)\n",
    "        saver.restore(sess, module_file)\n",
    "        test_predict=[]\n",
    "        for step in range(len(test_x)-1):\n",
    "            prob=sess.run(pred,feed_dict={X:[test_x[step]]})\n",
    "            predict=prob.reshape((-1))\n",
    "            test_predict.extend(predict)\n",
    "        test_y=np.array(test_y)*std[input_size]+mean[input_size]\n",
    "        test_predict=np.array(test_predict)*std[input_size]+mean[input_size]\n",
    "        min_index = min(len(test_y),len(test_predict))\n",
    "        test_y = test_y[:min_index]\n",
    "        test_predict = test_predict[:min_index]\n",
    "    return test_predict,test_y"
   ]
  },
  {
   "cell_type": "markdown",
   "metadata": {},
   "source": [
    "## plot function"
   ]
  },
  {
   "cell_type": "code",
   "execution_count": 12,
   "metadata": {},
   "outputs": [],
   "source": [
    "def plot_result(x, y,label,save_dir):     \n",
    "    plt.figure()\n",
    "    plt.plot(list(range(len(x))), x, color='b',)\n",
    "    plt.plot(list(range(len(y))), y, color='r')\n",
    "    plt.legend(label,loc=0)\n",
    "    plt.savefig(save_dir)\n",
    "    plt.show()"
   ]
  },
  {
   "cell_type": "markdown",
   "metadata": {},
   "source": [
    "## My trading strategy\n",
    "### since we have predicted the return, we make simple trading strategy:\n",
    "### If the predicted return tomorrow is positive, you are buying or still owing the stock by the end of closing\n",
    "### If the predicted return tomorrow is negative, you are selling or keeping no shares by the end of closing\n",
    "\n",
    "### tips:1.we consider the trading cost as 0.3%\n",
    "###         2.The buying or selling price is close to the ClosePrice that day"
   ]
  },
  {
   "cell_type": "code",
   "execution_count": 13,
   "metadata": {},
   "outputs": [],
   "source": [
    "def buy_signal(test_predict,test_y):\n",
    "    cost = 0.003\n",
    "    new_nv =[1]\n",
    "    sig = test_predict > 0\n",
    "    for i in range(len(sig)-1):\n",
    "        if (sig[i+1] == True) and (sig[i] == True):\n",
    "            new_nv.append(new_nv[-1]*(1+test_y[i]))\n",
    "        elif (sig[i+1] == True) and (sig[i] == False):\n",
    "            new_nv.append(new_nv[-1]*(1-cost))\n",
    "        elif (sig[i+1] == False) and (sig[i] == False):\n",
    "            new_nv.append(new_nv[-1])\n",
    "        elif (sig[i+1] == False) and (sig[i] == True):\n",
    "            new_nv.append(new_nv[-1]*(1+test_y[i])*(1-cost))\n",
    "    return new_nv"
   ]
  },
  {
   "cell_type": "code",
   "execution_count": 14,
   "metadata": {},
   "outputs": [],
   "source": [
    "def fit_nv(test_predict,test_y):\n",
    "    ynv = [1]\n",
    "    prenv = [1]\n",
    "    for i in range(len(test_predict)):\n",
    "        ynv.append(ynv[-1]*(1+test_y[i]))\n",
    "        prenv.append(prenv[-1]*(1+test_predict[i]))\n",
    "    plot_result(prenv,ynv,['predict net value','test net value'])"
   ]
  },
  {
   "cell_type": "markdown",
   "metadata": {},
   "source": [
    "## Prediction  result"
   ]
  },
  {
   "cell_type": "code",
   "execution_count": 15,
   "metadata": {},
   "outputs": [
    {
     "name": "stdout",
     "output_type": "stream",
     "text": [
      "INFO:tensorflow:Restoring parameters from model_save4\\model.ckpt\n"
     ]
    },
    {
     "data": {
      "image/png": "[encoded data removed]",
      "text/plain": [
       "<matplotlib.figure.Figure at 0x261b6cea240>"
      ]
     },
     "metadata": {},
     "output_type": "display_data"
    }
   ],
   "source": [
    "test_predict,test_y = prediction(cpt_name)\n",
    "plot_result(test_predict, test_y,['predict return','test return'],'result4_1.png')"
   ]
  },
  {
   "cell_type": "code",
   "execution_count": 16,
   "metadata": {},
   "outputs": [
    {
     "data": {
      "image/png": "[encoded data removed]",
      "text/plain": [
       "<matplotlib.figure.Figure at 0x261b752ab70>"
      ]
     },
     "metadata": {},
     "output_type": "display_data"
    }
   ],
   "source": [
    "ynv = [1]\n",
    "prenv = [1]    \n",
    "def fit_nv(test_predict,test_y):\n",
    "    for i in range(len(test_predict)):\n",
    "        ynv.append(ynv[-1]*(1+test_y[i]))\n",
    "        prenv.append(prenv[-1]*(1+test_predict[i]))\n",
    "    plot_result(prenv,ynv,['predict net value','test net value'],'result4_2.png')\n",
    "fit_nv(test_predict,test_y)"
   ]
  },
  {
   "cell_type": "markdown",
   "metadata": {},
   "source": [
    "## My trading strategy result"
   ]
  },
  {
   "cell_type": "code",
   "execution_count": 17,
   "metadata": {},
   "outputs": [
    {
     "data": {
      "image/png": "[encoded data removed]",
      "text/plain": [
       "<matplotlib.figure.Figure at 0x261b752abe0>"
      ]
     },
     "metadata": {},
     "output_type": "display_data"
    }
   ],
   "source": [
    "new_nv = buy_signal(test_predict,test_y)   \n",
    "plot_result(new_nv,ynv,['my net value','actual net value'],'result4_3.png')"
   ]
  },
  {
   "cell_type": "code",
   "execution_count": 18,
   "metadata": {},
   "outputs": [
    {
     "data": {
      "text/plain": [
       "0.55"
      ]
     },
     "execution_count": 18,
     "metadata": {},
     "output_type": "execute_result"
    }
   ],
   "source": [
    "num = 0\n",
    "for i in range(len(test_y)):\n",
    "    if np.sign(test_predict[i])== np.sign(test_y[i]):\n",
    "        num = num + 1\n",
    "acc = num / len(test_y)\n",
    "acc"
   ]
  }
 ],
 "metadata": {
  "kernelspec": {
   "display_name": "Python 3",
   "language": "python",
   "name": "python3"
  },
  "language_info": {
   "codemirror_mode": {
    "name": "ipython",
    "version": 3
   },
   "file_extension": ".py",
   "mimetype": "text/x-python",
   "name": "python",
   "nbconvert_exporter": "python",
   "pygments_lexer": "ipython3",
   "version": "3.6.4"
  }
 },
 "nbformat": 4,
 "nbformat_minor": 2
}
