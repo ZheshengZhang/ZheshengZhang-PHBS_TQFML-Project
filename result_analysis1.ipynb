{
 "cells": [
  {
   "cell_type": "markdown",
   "metadata": {},
   "source": [
    "# Long Short Term Memory Model of stock prediction "
   ]
  },
  {
   "cell_type": "markdown",
   "metadata": {},
   "source": [
    "## The \"white horse stock\" (Blue chips)\n",
    "## 600519.SH Moutai "
   ]
  },
  {
   "cell_type": "code",
   "execution_count": 1,
   "metadata": {},
   "outputs": [],
   "source": [
    "import pandas as pd\n",
    "import numpy as np\n",
    "import matplotlib.pyplot as plt\n",
    "import tensorflow as tf"
   ]
  },
  {
   "cell_type": "code",
   "execution_count": 2,
   "metadata": {},
   "outputs": [],
   "source": [
    "rnn_unit = 10       #hidden layer level\n",
    "input_size = 6\n",
    "output_size = 1\n",
    "lr = 0.0005         #learning rate"
   ]
  },
  {
   "cell_type": "code",
   "execution_count": 3,
   "metadata": {},
   "outputs": [],
   "source": [
    "df=pd.read_csv('600519.csv')     \n",
    "data=df.iloc[:,1:8].values  \n",
    "n = len(df)\n",
    "train_ratio = 0.7   #decide the data ratio as training data\n",
    "save_name ='model_save1\\\\model.ckpt'\n",
    "cpt_name ='model_save1'"
   ]
  },
  {
   "cell_type": "markdown",
   "metadata": {},
   "source": [
    "## generating the standardized training data"
   ]
  },
  {
   "cell_type": "code",
   "execution_count": 4,
   "metadata": {},
   "outputs": [],
   "source": [
    "def get_train_data(batch_size=60, time_step=20, train_begin=0, train_end=int(n*train_ratio)):\n",
    "    batch_index=[]\n",
    "    data_train=data[train_begin:train_end]\n",
    "    normalized_train_data=(data_train-np.mean(data_train,axis=0))/np.std(data_train,axis=0)  \n",
    "    train_x,train_y=[],[]   \n",
    "    for i in range(len(normalized_train_data)-time_step):\n",
    "        if i % batch_size==0:\n",
    "            batch_index.append(i)\n",
    "        x = normalized_train_data[i:i+time_step,:input_size]\n",
    "        y = normalized_train_data[i:i+time_step,input_size,np.newaxis]\n",
    "        train_x.append(x.tolist())\n",
    "        train_y.append(y.tolist())\n",
    "    batch_index.append((len(normalized_train_data)-time_step))\n",
    "    return batch_index,train_x,train_y"
   ]
  },
  {
   "cell_type": "markdown",
   "metadata": {},
   "source": [
    "## generating the standardized test data"
   ]
  },
  {
   "cell_type": "code",
   "execution_count": 5,
   "metadata": {},
   "outputs": [],
   "source": [
    "def get_test_data(time_step=20, test_begin=int(n*train_ratio)):\n",
    "    data_test=data[test_begin:]\n",
    "    mean=np.mean(data_test,axis=0)\n",
    "    std=np.std(data_test,axis=0)\n",
    "    normalized_test_data=(data_test-mean)/std  \n",
    "    size=(len(normalized_test_data)+time_step-1)//time_step  \n",
    "    test_x,test_y=[],[]\n",
    "    for i in range(size-1):\n",
    "        x=normalized_test_data[i*time_step:(i+1)*time_step,:input_size]\n",
    "        y=normalized_test_data[i*time_step:(i+1)*time_step,input_size]\n",
    "        test_x.append(x.tolist())\n",
    "        test_y.extend(y)\n",
    "    test_x.append((normalized_test_data[(i+1)*time_step:,:input_size]).tolist())\n",
    "    test_y.extend((normalized_test_data[(i+1)*time_step:,input_size]).tolist())\n",
    "    return mean,std,test_x,test_y"
   ]
  },
  {
   "cell_type": "markdown",
   "metadata": {},
   "source": [
    "## setting the weights and biases"
   ]
  },
  {
   "cell_type": "code",
   "execution_count": 6,
   "metadata": {},
   "outputs": [],
   "source": [
    "weights={\n",
    "         'in':tf.Variable(tf.random_normal([input_size,rnn_unit])),\n",
    "         'out':tf.Variable(tf.random_normal([rnn_unit,1]))\n",
    "        }\n",
    "biases={\n",
    "        'in':tf.Variable(tf.constant(0.1,shape=[rnn_unit,])),\n",
    "        'out':tf.Variable(tf.constant(0.1,shape=[1,]))\n",
    "       }"
   ]
  },
  {
   "cell_type": "markdown",
   "metadata": {},
   "source": [
    "## set the LSTM model"
   ]
  },
  {
   "cell_type": "code",
   "execution_count": 7,
   "metadata": {},
   "outputs": [],
   "source": [
    "def lstm(X):\n",
    "    \n",
    "    batch_size=tf.shape(X)[0]\n",
    "    time_step=tf.shape(X)[1]\n",
    "    w_in=weights['in']\n",
    "    b_in=biases['in']\n",
    "    input=tf.reshape(X,[-1,input_size])  \n",
    "    input_rnn=tf.matmul(input,w_in)+b_in\n",
    "    input_rnn=tf.reshape(input_rnn,[-1,time_step,rnn_unit])  \n",
    "    cell=tf.nn.rnn_cell.BasicLSTMCell(rnn_unit)\n",
    "    init_state=cell.zero_state(batch_size,dtype=tf.float32)\n",
    "    output_rnn,final_states=tf.nn.dynamic_rnn(cell, input_rnn,initial_state=init_state, dtype=tf.float32)\n",
    "    output=tf.reshape(output_rnn,[-1,rnn_unit]) \n",
    "    w_out=weights['out']\n",
    "    b_out=biases['out']\n",
    "    pred=tf.matmul(output,w_out)+b_out\n",
    "    return pred,final_states"
   ]
  },
  {
   "cell_type": "markdown",
   "metadata": {},
   "source": [
    "## generating the training function"
   ]
  },
  {
   "cell_type": "code",
   "execution_count": 8,
   "metadata": {},
   "outputs": [],
   "source": [
    "def train_lstm(save_name, batch_size=60, time_step=20, train_begin=0, train_end=int(n*train_ratio), iteration=100):\n",
    "    X=tf.placeholder(tf.float32, shape=[None,time_step,input_size])\n",
    "    Y=tf.placeholder(tf.float32, shape=[None,time_step,output_size])\n",
    "    batch_index,train_x,train_y=get_train_data(batch_size, time_step, train_begin, train_end)\n",
    "    with tf.variable_scope(\"sec_lstm\"):\n",
    "        pred,_=lstm(X)\n",
    "    loss=tf.reduce_mean(tf.square(tf.reshape(pred,[-1])-tf.reshape(Y, [-1])))\n",
    "    train_op=tf.train.AdamOptimizer(lr).minimize(loss)\n",
    "    saver=tf.train.Saver(tf.global_variables(),max_to_keep=15)\n",
    "    #module_file = tf.train.latest_checkpoint()\n",
    "    with tf.Session() as sess:\n",
    "        sess.run(tf.global_variables_initializer())\n",
    "        #saver.restore(sess, module_file)\n",
    "        for i in range(iteration):     \n",
    "            for step in range(len(batch_index)-1):\n",
    "                _,loss_=sess.run([train_op,loss],feed_dict={X:train_x[batch_index[step]:batch_index[step+1]],Y:train_y[batch_index[step]:batch_index[step+1]]})\n",
    "            print(\"Number of iterations:\",i,\" loss:\",loss_)\n",
    "        print(\"model_save: \",saver.save(sess,save_name))\n",
    "        print(\"The train has finished\")"
   ]
  },
  {
   "cell_type": "markdown",
   "metadata": {},
   "source": [
    "## run the training\n",
    "### (there is still some troubles that if you want to re-train the model, you must re-open the jupyter notebook）"
   ]
  },
  {
   "cell_type": "code",
   "execution_count": 9,
   "metadata": {},
   "outputs": [
    {
     "name": "stdout",
     "output_type": "stream",
     "text": [
      "Number of iterations: 0  loss: 1.2348745\n",
      "Number of iterations: 1  loss: 0.8688852\n",
      "Number of iterations: 2  loss: 0.7117307\n",
      "Number of iterations: 3  loss: 0.64488053\n",
      "Number of iterations: 4  loss: 0.6097199\n",
      "Number of iterations: 5  loss: 0.59084815\n",
      "Number of iterations: 6  loss: 0.57986677\n",
      "Number of iterations: 7  loss: 0.57261074\n",
      "Number of iterations: 8  loss: 0.56716096\n",
      "Number of iterations: 9  loss: 0.5620918\n",
      "Number of iterations: 10  loss: 0.5572931\n",
      "Number of iterations: 11  loss: 0.5522317\n",
      "Number of iterations: 12  loss: 0.5472153\n",
      "Number of iterations: 13  loss: 0.5421628\n",
      "Number of iterations: 14  loss: 0.5373237\n",
      "Number of iterations: 15  loss: 0.5327121\n",
      "Number of iterations: 16  loss: 0.5282577\n",
      "Number of iterations: 17  loss: 0.5240922\n",
      "Number of iterations: 18  loss: 0.51992536\n",
      "Number of iterations: 19  loss: 0.5160641\n",
      "Number of iterations: 20  loss: 0.51210093\n",
      "Number of iterations: 21  loss: 0.50846803\n",
      "Number of iterations: 22  loss: 0.5047839\n",
      "Number of iterations: 23  loss: 0.50145936\n",
      "Number of iterations: 24  loss: 0.49828595\n",
      "Number of iterations: 25  loss: 0.49540186\n",
      "Number of iterations: 26  loss: 0.4928797\n",
      "Number of iterations: 27  loss: 0.49040493\n",
      "Number of iterations: 28  loss: 0.48846\n",
      "Number of iterations: 29  loss: 0.48623475\n",
      "Number of iterations: 30  loss: 0.48472908\n",
      "Number of iterations: 31  loss: 0.48259804\n",
      "Number of iterations: 32  loss: 0.48141506\n",
      "Number of iterations: 33  loss: 0.47926766\n",
      "Number of iterations: 34  loss: 0.4782983\n",
      "Number of iterations: 35  loss: 0.4760598\n",
      "Number of iterations: 36  loss: 0.4751718\n",
      "Number of iterations: 37  loss: 0.47278914\n",
      "Number of iterations: 38  loss: 0.47181648\n",
      "Number of iterations: 39  loss: 0.46924344\n",
      "Number of iterations: 40  loss: 0.46800712\n",
      "Number of iterations: 41  loss: 0.465196\n",
      "Number of iterations: 42  loss: 0.46354178\n",
      "Number of iterations: 43  loss: 0.46045402\n",
      "Number of iterations: 44  loss: 0.458292\n",
      "Number of iterations: 45  loss: 0.45491973\n",
      "Number of iterations: 46  loss: 0.45224646\n",
      "Number of iterations: 47  loss: 0.44862762\n",
      "Number of iterations: 48  loss: 0.44552\n",
      "Number of iterations: 49  loss: 0.44172695\n",
      "Number of iterations: 50  loss: 0.4383052\n",
      "Number of iterations: 51  loss: 0.4344118\n",
      "Number of iterations: 52  loss: 0.4307864\n",
      "Number of iterations: 53  loss: 0.42683578\n",
      "Number of iterations: 54  loss: 0.4230664\n",
      "Number of iterations: 55  loss: 0.41905344\n",
      "Number of iterations: 56  loss: 0.4151442\n",
      "Number of iterations: 57  loss: 0.41104344\n",
      "Number of iterations: 58  loss: 0.40703657\n",
      "Number of iterations: 59  loss: 0.40304375\n",
      "Number of iterations: 60  loss: 0.3995574\n",
      "Number of iterations: 61  loss: 0.39683568\n",
      "Number of iterations: 62  loss: 0.39486197\n",
      "Number of iterations: 63  loss: 0.39281824\n",
      "Number of iterations: 64  loss: 0.3905541\n",
      "Number of iterations: 65  loss: 0.3880765\n",
      "Number of iterations: 66  loss: 0.38533264\n",
      "Number of iterations: 67  loss: 0.38217965\n",
      "Number of iterations: 68  loss: 0.3787354\n",
      "Number of iterations: 69  loss: 0.3750821\n",
      "Number of iterations: 70  loss: 0.3714338\n",
      "Number of iterations: 71  loss: 0.3678669\n",
      "Number of iterations: 72  loss: 0.36448717\n",
      "Number of iterations: 73  loss: 0.36125392\n",
      "Number of iterations: 74  loss: 0.35816061\n",
      "Number of iterations: 75  loss: 0.35510513\n",
      "Number of iterations: 76  loss: 0.35204473\n",
      "Number of iterations: 77  loss: 0.34889218\n",
      "Number of iterations: 78  loss: 0.34565714\n",
      "Number of iterations: 79  loss: 0.34234244\n",
      "Number of iterations: 80  loss: 0.33903915\n",
      "Number of iterations: 81  loss: 0.3358078\n",
      "Number of iterations: 82  loss: 0.3327311\n",
      "Number of iterations: 83  loss: 0.32981342\n",
      "Number of iterations: 84  loss: 0.32703125\n",
      "Number of iterations: 85  loss: 0.32427114\n",
      "Number of iterations: 86  loss: 0.32139277\n",
      "Number of iterations: 87  loss: 0.3182181\n",
      "Number of iterations: 88  loss: 0.3146137\n",
      "Number of iterations: 89  loss: 0.31050214\n",
      "Number of iterations: 90  loss: 0.3059249\n",
      "Number of iterations: 91  loss: 0.30100834\n",
      "Number of iterations: 92  loss: 0.29595223\n",
      "Number of iterations: 93  loss: 0.29096043\n",
      "Number of iterations: 94  loss: 0.28620636\n",
      "Number of iterations: 95  loss: 0.28178546\n",
      "Number of iterations: 96  loss: 0.27772048\n",
      "Number of iterations: 97  loss: 0.2739543\n",
      "Number of iterations: 98  loss: 0.27037698\n",
      "Number of iterations: 99  loss: 0.26685053\n",
      "model_save:  model_save1\\model.ckpt\n",
      "The train has finished\n"
     ]
    }
   ],
   "source": [
    "train_lstm(save_name)"
   ]
  },
  {
   "cell_type": "markdown",
   "metadata": {},
   "source": [
    "## prediciton part"
   ]
  },
  {
   "cell_type": "code",
   "execution_count": 10,
   "metadata": {},
   "outputs": [],
   "source": [
    "def prediction(cpt_name, time_step=20):\n",
    "    X=tf.placeholder(tf.float32, shape=[None,time_step,input_size])\n",
    "    mean,std,test_x,test_y=get_test_data(time_step)\n",
    "    with tf.variable_scope(\"sec_lstm\",reuse=True):\n",
    "        pred,_=lstm(X)\n",
    "    saver=tf.train.Saver(tf.global_variables())\n",
    "    with tf.Session() as sess:\n",
    "        module_file = tf.train.latest_checkpoint(cpt_name)\n",
    "        saver.restore(sess, module_file)\n",
    "        test_predict=[]\n",
    "        for step in range(len(test_x)-1):\n",
    "            prob=sess.run(pred,feed_dict={X:[test_x[step]]})\n",
    "            predict=prob.reshape((-1))\n",
    "            test_predict.extend(predict)\n",
    "        test_y=np.array(test_y)*std[input_size]+mean[input_size]\n",
    "        test_predict=np.array(test_predict)*std[input_size]+mean[input_size]\n",
    "        min_index = min(len(test_y),len(test_predict))\n",
    "        test_y = test_y[:min_index]\n",
    "        test_predict = test_predict[:min_index]\n",
    "    return test_predict,test_y"
   ]
  },
  {
   "cell_type": "markdown",
   "metadata": {},
   "source": [
    "## plot function"
   ]
  },
  {
   "cell_type": "code",
   "execution_count": 11,
   "metadata": {},
   "outputs": [],
   "source": [
    "def plot_result(x, y,label,save_dir):     \n",
    "    plt.figure()\n",
    "    plt.plot(list(range(len(x))), x, color='b',)\n",
    "    plt.plot(list(range(len(y))), y, color='r')\n",
    "    plt.legend(label,loc=0)\n",
    "    plt.savefig(save_dir)\n",
    "    plt.show()"
   ]
  },
  {
   "cell_type": "markdown",
   "metadata": {},
   "source": [
    "## My trading strategy\n",
    "### since we have predicted the return, we make simple trading strategy:\n",
    "### If the predicted return tomorrow is positive, you are buying or still owing the stock by the end of closing\n",
    "### If the predicted return tomorrow is negative, you are selling or keeping no shares by the end of closing\n",
    "\n",
    "### tips:1.we consider the trading cost as 0.3%\n",
    "###         2.The buying or selling price is close to the ClosePrice that day"
   ]
  },
  {
   "cell_type": "code",
   "execution_count": 12,
   "metadata": {},
   "outputs": [],
   "source": [
    "def buy_signal(test_predict,test_y):\n",
    "    cost = 0.003\n",
    "    new_nv =[1]\n",
    "    sig = test_predict > 0\n",
    "    for i in range(len(sig)-1):\n",
    "        if (sig[i+1] == True) and (sig[i] == True):\n",
    "            new_nv.append(new_nv[-1]*(1+test_y[i]))\n",
    "        elif (sig[i+1] == True) and (sig[i] == False):\n",
    "            new_nv.append(new_nv[-1]*(1-cost))\n",
    "        elif (sig[i+1] == False) and (sig[i] == False):\n",
    "            new_nv.append(new_nv[-1])\n",
    "        elif (sig[i+1] == False) and (sig[i] == True):\n",
    "            new_nv.append(new_nv[-1]*(1+test_y[i])*(1-cost))\n",
    "    return new_nv"
   ]
  },
  {
   "cell_type": "code",
   "execution_count": 13,
   "metadata": {},
   "outputs": [],
   "source": [
    "def fit_nv(test_predict,test_y):\n",
    "    ynv = [1]\n",
    "    prenv = [1]\n",
    "    for i in range(len(test_predict)):\n",
    "        ynv.append(ynv[-1]*(1+test_y[i]))\n",
    "        prenv.append(prenv[-1]*(1+test_predict[i]))\n",
    "    plot_result(prenv,ynv,['predict net value','test net value'])"
   ]
  },
  {
   "cell_type": "markdown",
   "metadata": {},
   "source": [
    "## Prediction  result"
   ]
  },
  {
   "cell_type": "code",
   "execution_count": 14,
   "metadata": {},
   "outputs": [
    {
     "name": "stdout",
     "output_type": "stream",
     "text": [
      "INFO:tensorflow:Restoring parameters from model_save1\\model.ckpt\n"
     ]
    },
    {
     "data": {
      "image/png": "[encoded data removed]",
      "text/plain": [
       "<matplotlib.figure.Figure at 0x26719281b00>"
      ]
     },
     "metadata": {},
     "output_type": "display_data"
    }
   ],
   "source": [
    "test_predict,test_y = prediction(cpt_name)\n",
    "plot_result(test_predict, test_y,['predict return','test return'],'result1_1.png')"
   ]
  },
  {
   "cell_type": "code",
   "execution_count": 15,
   "metadata": {},
   "outputs": [
    {
     "data": {
      "image/png": "[encoded data removed]",
      "text/plain": [
       "<matplotlib.figure.Figure at 0x26718733358>"
      ]
     },
     "metadata": {},
     "output_type": "display_data"
    }
   ],
   "source": [
    "ynv = [1]\n",
    "prenv = [1]    \n",
    "def fit_nv(test_predict,test_y):\n",
    "    for i in range(len(test_predict)):\n",
    "        ynv.append(ynv[-1]*(1+test_y[i]))\n",
    "        prenv.append(prenv[-1]*(1+test_predict[i]))\n",
    "    plot_result(prenv,ynv,['predict net value','test net value'],'result1_2.png')\n",
    "fit_nv(test_predict,test_y)"
   ]
  },
  {
   "cell_type": "markdown",
   "metadata": {},
   "source": [
    "## My trading strategy result"
   ]
  },
  {
   "cell_type": "code",
   "execution_count": 16,
   "metadata": {},
   "outputs": [
    {
     "data": {
      "image/png": "[encoded data removed]",
      "text/plain": [
       "<matplotlib.figure.Figure at 0x267197ed470>"
      ]
     },
     "metadata": {},
     "output_type": "display_data"
    }
   ],
   "source": [
    "new_nv = buy_signal(test_predict,test_y)   \n",
    "plot_result(new_nv,ynv,['my net value','actual net value'],'result1_3.png')"
   ]
  },
  {
   "cell_type": "code",
   "execution_count": null,
   "metadata": {},
   "outputs": [],
   "source": [
    "num = 0\n",
    "for i in range(len(test_y)):\n",
    "    if np.sign(test_predict[i])== np.sign(test_y[i]):\n",
    "        num = num + 1\n",
    "acc = num / len(test_y)\n",
    "acc"
   ]
  }
 ],
 "metadata": {
  "kernelspec": {
   "display_name": "Python 3",
   "language": "python",
   "name": "python3"
  },
  "language_info": {
   "codemirror_mode": {
    "name": "ipython",
    "version": 3
   },
   "file_extension": ".py",
   "mimetype": "text/x-python",
   "name": "python",
   "nbconvert_exporter": "python",
   "pygments_lexer": "ipython3",
   "version": "3.6.4"
  }
 },
 "nbformat": 4,
 "nbformat_minor": 2
}
