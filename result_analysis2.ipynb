{
 "cells": [
  {
   "cell_type": "markdown",
   "metadata": {},
   "source": [
    "# Long Short Term Memory Model of stock prediction "
   ]
  },
  {
   "cell_type": "markdown",
   "metadata": {},
   "source": [
    "## Strong Cyclical Stock\n",
    "## 600019.SH BaoGang "
   ]
  },
  {
   "cell_type": "code",
   "execution_count": 1,
   "metadata": {},
   "outputs": [],
   "source": [
    "import pandas as pd\n",
    "import numpy as np\n",
    "import matplotlib.pyplot as plt\n",
    "import tensorflow as tf"
   ]
  },
  {
   "cell_type": "code",
   "execution_count": 2,
   "metadata": {},
   "outputs": [],
   "source": [
    "rnn_unit = 10       #hidden layer level\n",
    "input_size = 6\n",
    "output_size = 1\n",
    "lr = 0.0005         #learning rate"
   ]
  },
  {
   "cell_type": "code",
   "execution_count": 3,
   "metadata": {},
   "outputs": [],
   "source": [
    "df=pd.read_csv('600019.csv')     \n",
    "data=df.iloc[:,1:8].values  \n",
    "n = len(df)\n",
    "train_ratio = 0.7   #decide the data ratio as training data\n",
    "save_name ='model_save2\\\\model.ckpt'\n",
    "cpt_name ='model_save2'"
   ]
  },
  {
   "cell_type": "markdown",
   "metadata": {},
   "source": [
    "## generating the standardized training data"
   ]
  },
  {
   "cell_type": "code",
   "execution_count": 4,
   "metadata": {},
   "outputs": [],
   "source": [
    "def get_train_data(batch_size=60, time_step=20, train_begin=0, train_end=int(n*train_ratio)):\n",
    "    batch_index=[]\n",
    "    data_train=data[train_begin:train_end]\n",
    "    normalized_train_data=(data_train-np.mean(data_train,axis=0))/np.std(data_train,axis=0)  \n",
    "    train_x,train_y=[],[]   \n",
    "    for i in range(len(normalized_train_data)-time_step):\n",
    "        if i % batch_size==0:\n",
    "            batch_index.append(i)\n",
    "        x = normalized_train_data[i:i+time_step,:input_size]\n",
    "        y = normalized_train_data[i:i+time_step,input_size,np.newaxis]\n",
    "        train_x.append(x.tolist())\n",
    "        train_y.append(y.tolist())\n",
    "    batch_index.append((len(normalized_train_data)-time_step))\n",
    "    return batch_index,train_x,train_y"
   ]
  },
  {
   "cell_type": "markdown",
   "metadata": {},
   "source": [
    "## generating the standardized test data"
   ]
  },
  {
   "cell_type": "code",
   "execution_count": 5,
   "metadata": {},
   "outputs": [],
   "source": [
    "def get_test_data(time_step=20, test_begin=int(n*train_ratio)):\n",
    "    data_test=data[test_begin:]\n",
    "    mean=np.mean(data_test,axis=0)\n",
    "    std=np.std(data_test,axis=0)\n",
    "    normalized_test_data=(data_test-mean)/std  \n",
    "    size=(len(normalized_test_data)+time_step-1)//time_step  \n",
    "    test_x,test_y=[],[]\n",
    "    for i in range(size-1):\n",
    "        x=normalized_test_data[i*time_step:(i+1)*time_step,:input_size]\n",
    "        y=normalized_test_data[i*time_step:(i+1)*time_step,input_size]\n",
    "        test_x.append(x.tolist())\n",
    "        test_y.extend(y)\n",
    "    test_x.append((normalized_test_data[(i+1)*time_step:,:input_size]).tolist())\n",
    "    test_y.extend((normalized_test_data[(i+1)*time_step:,input_size]).tolist())\n",
    "    return mean,std,test_x,test_y"
   ]
  },
  {
   "cell_type": "markdown",
   "metadata": {},
   "source": [
    "## setting the weights and biases"
   ]
  },
  {
   "cell_type": "code",
   "execution_count": 6,
   "metadata": {},
   "outputs": [],
   "source": [
    "weights={\n",
    "         'in':tf.Variable(tf.random_normal([input_size,rnn_unit])),\n",
    "         'out':tf.Variable(tf.random_normal([rnn_unit,1]))\n",
    "        }\n",
    "biases={\n",
    "        'in':tf.Variable(tf.constant(0.1,shape=[rnn_unit,])),\n",
    "        'out':tf.Variable(tf.constant(0.1,shape=[1,]))\n",
    "       }"
   ]
  },
  {
   "cell_type": "markdown",
   "metadata": {},
   "source": [
    "## set the LSTM model"
   ]
  },
  {
   "cell_type": "code",
   "execution_count": 7,
   "metadata": {},
   "outputs": [],
   "source": [
    "def lstm(X):\n",
    "    \n",
    "    batch_size=tf.shape(X)[0]\n",
    "    time_step=tf.shape(X)[1]\n",
    "    w_in=weights['in']\n",
    "    b_in=biases['in']\n",
    "    input=tf.reshape(X,[-1,input_size])  \n",
    "    input_rnn=tf.matmul(input,w_in)+b_in\n",
    "    input_rnn=tf.reshape(input_rnn,[-1,time_step,rnn_unit])  \n",
    "    cell=tf.nn.rnn_cell.BasicLSTMCell(rnn_unit)\n",
    "    init_state=cell.zero_state(batch_size,dtype=tf.float32)\n",
    "    output_rnn,final_states=tf.nn.dynamic_rnn(cell, input_rnn,initial_state=init_state, dtype=tf.float32)\n",
    "    output=tf.reshape(output_rnn,[-1,rnn_unit]) \n",
    "    w_out=weights['out']\n",
    "    b_out=biases['out']\n",
    "    pred=tf.matmul(output,w_out)+b_out\n",
    "    return pred,final_states"
   ]
  },
  {
   "cell_type": "markdown",
   "metadata": {},
   "source": [
    "## generating the training function"
   ]
  },
  {
   "cell_type": "code",
   "execution_count": 8,
   "metadata": {},
   "outputs": [],
   "source": [
    "def train_lstm(save_name, batch_size=60, time_step=20, train_begin=0, train_end=int(n*train_ratio), iteration=100):\n",
    "    X=tf.placeholder(tf.float32, shape=[None,time_step,input_size])\n",
    "    Y=tf.placeholder(tf.float32, shape=[None,time_step,output_size])\n",
    "    batch_index,train_x,train_y=get_train_data(batch_size, time_step, train_begin, train_end)\n",
    "    with tf.variable_scope(\"sec_lstm\"):\n",
    "        pred,_=lstm(X)\n",
    "    loss=tf.reduce_mean(tf.square(tf.reshape(pred,[-1])-tf.reshape(Y, [-1])))\n",
    "    train_op=tf.train.AdamOptimizer(lr).minimize(loss)\n",
    "    saver=tf.train.Saver(tf.global_variables(),max_to_keep=15)\n",
    "    #module_file = tf.train.latest_checkpoint()\n",
    "    with tf.Session() as sess:\n",
    "        sess.run(tf.global_variables_initializer())\n",
    "        #saver.restore(sess, module_file)\n",
    "        for i in range(iteration):     \n",
    "            for step in range(len(batch_index)-1):\n",
    "                _,loss_=sess.run([train_op,loss],feed_dict={X:train_x[batch_index[step]:batch_index[step+1]],Y:train_y[batch_index[step]:batch_index[step+1]]})\n",
    "            print(\"Number of iterations:\",i,\" loss:\",loss_)\n",
    "        print(\"model_save: \",saver.save(sess,save_name))\n",
    "        print(\"The train has finished\")"
   ]
  },
  {
   "cell_type": "markdown",
   "metadata": {},
   "source": [
    "## run the training\n",
    "### (there is still some troubles that if you want to re-train the model, you must re-open the jupyter notebook）"
   ]
  },
  {
   "cell_type": "code",
   "execution_count": 9,
   "metadata": {},
   "outputs": [
    {
     "name": "stdout",
     "output_type": "stream",
     "text": [
      "Number of iterations: 0  loss: 0.6886267\n",
      "Number of iterations: 1  loss: 0.4506251\n",
      "Number of iterations: 2  loss: 0.34469897\n",
      "Number of iterations: 3  loss: 0.30713952\n",
      "Number of iterations: 4  loss: 0.29533455\n",
      "Number of iterations: 5  loss: 0.2919457\n",
      "Number of iterations: 6  loss: 0.29067716\n",
      "Number of iterations: 7  loss: 0.28956467\n",
      "Number of iterations: 8  loss: 0.28849646\n",
      "Number of iterations: 9  loss: 0.287578\n",
      "Number of iterations: 10  loss: 0.2867524\n",
      "Number of iterations: 11  loss: 0.2859375\n",
      "Number of iterations: 12  loss: 0.28509897\n",
      "Number of iterations: 13  loss: 0.28424218\n",
      "Number of iterations: 14  loss: 0.28338856\n",
      "Number of iterations: 15  loss: 0.2825604\n",
      "Number of iterations: 16  loss: 0.2817756\n",
      "Number of iterations: 17  loss: 0.2810445\n",
      "Number of iterations: 18  loss: 0.280372\n",
      "Number of iterations: 19  loss: 0.27975836\n",
      "Number of iterations: 20  loss: 0.27920008\n",
      "Number of iterations: 21  loss: 0.27869153\n",
      "Number of iterations: 22  loss: 0.27822554\n",
      "Number of iterations: 23  loss: 0.27779436\n",
      "Number of iterations: 24  loss: 0.27739003\n",
      "Number of iterations: 25  loss: 0.27700493\n",
      "Number of iterations: 26  loss: 0.27663112\n",
      "Number of iterations: 27  loss: 0.27626103\n",
      "Number of iterations: 28  loss: 0.2758867\n",
      "Number of iterations: 29  loss: 0.27550077\n",
      "Number of iterations: 30  loss: 0.27510032\n",
      "Number of iterations: 31  loss: 0.27469194\n",
      "Number of iterations: 32  loss: 0.274281\n",
      "Number of iterations: 33  loss: 0.27384934\n",
      "Number of iterations: 34  loss: 0.27339068\n",
      "Number of iterations: 35  loss: 0.27290344\n",
      "Number of iterations: 36  loss: 0.27239233\n",
      "Number of iterations: 37  loss: 0.27193952\n",
      "Number of iterations: 38  loss: 0.27135396\n",
      "Number of iterations: 39  loss: 0.27158827\n",
      "Number of iterations: 40  loss: 0.26776707\n",
      "Number of iterations: 41  loss: 0.26988894\n",
      "Number of iterations: 42  loss: 0.26760232\n",
      "Number of iterations: 43  loss: 0.2680089\n",
      "Number of iterations: 44  loss: 0.2605264\n",
      "Number of iterations: 45  loss: 0.26503685\n",
      "Number of iterations: 46  loss: 0.25691923\n",
      "Number of iterations: 47  loss: 0.26666182\n",
      "Number of iterations: 48  loss: 0.25590077\n",
      "Number of iterations: 49  loss: 0.2624969\n",
      "Number of iterations: 50  loss: 0.26385874\n",
      "Number of iterations: 51  loss: 0.25736442\n",
      "Number of iterations: 52  loss: 0.3234707\n",
      "Number of iterations: 53  loss: 0.27508417\n",
      "Number of iterations: 54  loss: 0.36706367\n",
      "Number of iterations: 55  loss: 0.26600286\n",
      "Number of iterations: 56  loss: 0.33216277\n",
      "Number of iterations: 57  loss: 0.25491676\n",
      "Number of iterations: 58  loss: 0.2993192\n",
      "Number of iterations: 59  loss: 0.2532178\n",
      "Number of iterations: 60  loss: 0.28902373\n",
      "Number of iterations: 61  loss: 0.2527923\n",
      "Number of iterations: 62  loss: 0.28787345\n",
      "Number of iterations: 63  loss: 0.25183305\n",
      "Number of iterations: 64  loss: 0.29215354\n",
      "Number of iterations: 65  loss: 0.25071424\n",
      "Number of iterations: 66  loss: 0.30055526\n",
      "Number of iterations: 67  loss: 0.25033638\n",
      "Number of iterations: 68  loss: 0.3095109\n",
      "Number of iterations: 69  loss: 0.2504098\n",
      "Number of iterations: 70  loss: 0.3116014\n",
      "Number of iterations: 71  loss: 0.24920185\n",
      "Number of iterations: 72  loss: 0.30461994\n",
      "Number of iterations: 73  loss: 0.24740043\n",
      "Number of iterations: 74  loss: 0.2951784\n",
      "Number of iterations: 75  loss: 0.24610019\n",
      "Number of iterations: 76  loss: 0.28854004\n",
      "Number of iterations: 77  loss: 0.24506931\n",
      "Number of iterations: 78  loss: 0.2855666\n",
      "Number of iterations: 79  loss: 0.24406281\n",
      "Number of iterations: 80  loss: 0.28576672\n",
      "Number of iterations: 81  loss: 0.24320519\n",
      "Number of iterations: 82  loss: 0.28834772\n",
      "Number of iterations: 83  loss: 0.24272063\n",
      "Number of iterations: 84  loss: 0.29173732\n",
      "Number of iterations: 85  loss: 0.24246588\n",
      "Number of iterations: 86  loss: 0.29340148\n",
      "Number of iterations: 87  loss: 0.24184549\n",
      "Number of iterations: 88  loss: 0.29159278\n",
      "Number of iterations: 89  loss: 0.2406065\n",
      "Number of iterations: 90  loss: 0.28724143\n",
      "Number of iterations: 91  loss: 0.2391267\n",
      "Number of iterations: 92  loss: 0.28272468\n",
      "Number of iterations: 93  loss: 0.23775241\n",
      "Number of iterations: 94  loss: 0.27962124\n",
      "Number of iterations: 95  loss: 0.23657718\n",
      "Number of iterations: 96  loss: 0.27839324\n",
      "Number of iterations: 97  loss: 0.23563974\n",
      "Number of iterations: 98  loss: 0.27880993\n",
      "Number of iterations: 99  loss: 0.2349803\n",
      "model_save:  model_save2\\model.ckpt\n",
      "The train has finished\n"
     ]
    }
   ],
   "source": [
    "train_lstm(save_name)"
   ]
  },
  {
   "cell_type": "markdown",
   "metadata": {},
   "source": [
    "## prediciton part"
   ]
  },
  {
   "cell_type": "code",
   "execution_count": 10,
   "metadata": {},
   "outputs": [],
   "source": [
    "def prediction(cpt_name, time_step=20):\n",
    "    X=tf.placeholder(tf.float32, shape=[None,time_step,input_size])\n",
    "    mean,std,test_x,test_y=get_test_data(time_step)\n",
    "    with tf.variable_scope(\"sec_lstm\",reuse=True):\n",
    "        pred,_=lstm(X)\n",
    "    saver=tf.train.Saver(tf.global_variables())\n",
    "    with tf.Session() as sess:\n",
    "        module_file = tf.train.latest_checkpoint(cpt_name)\n",
    "        saver.restore(sess, module_file)\n",
    "        test_predict=[]\n",
    "        for step in range(len(test_x)-1):\n",
    "            prob=sess.run(pred,feed_dict={X:[test_x[step]]})\n",
    "            predict=prob.reshape((-1))\n",
    "            test_predict.extend(predict)\n",
    "        test_y=np.array(test_y)*std[input_size]+mean[input_size]\n",
    "        test_predict=np.array(test_predict)*std[input_size]+mean[input_size]\n",
    "        min_index = min(len(test_y),len(test_predict))\n",
    "        test_y = test_y[:min_index]\n",
    "        test_predict = test_predict[:min_index]\n",
    "    return test_predict,test_y"
   ]
  },
  {
   "cell_type": "markdown",
   "metadata": {},
   "source": [
    "## plot function"
   ]
  },
  {
   "cell_type": "code",
   "execution_count": 11,
   "metadata": {},
   "outputs": [],
   "source": [
    "def plot_result(x, y,label,save_dir):     \n",
    "    plt.figure()\n",
    "    plt.plot(list(range(len(x))), x, color='b',)\n",
    "    plt.plot(list(range(len(y))), y, color='r')\n",
    "    plt.legend(label,loc=0)\n",
    "    plt.savefig(save_dir)\n",
    "    plt.show()"
   ]
  },
  {
   "cell_type": "markdown",
   "metadata": {},
   "source": [
    "## My trading strategy\n",
    "### since we have predicted the return, we make simple trading strategy:\n",
    "### If the predicted return tomorrow is positive, you are buying or still owing the stock by the end of closing\n",
    "### If the predicted return tomorrow is negative, you are selling or keeping no shares by the end of closing\n",
    "\n",
    "### tips:1.we consider the trading cost as 0.3%\n",
    "###         2.The buying or selling price is close to the ClosePrice that day"
   ]
  },
  {
   "cell_type": "code",
   "execution_count": 12,
   "metadata": {},
   "outputs": [],
   "source": [
    "def buy_signal(test_predict,test_y):\n",
    "    cost = 0.003\n",
    "    new_nv =[1]\n",
    "    sig = test_predict > 0\n",
    "    for i in range(len(sig)-1):\n",
    "        if (sig[i+1] == True) and (sig[i] == True):\n",
    "            new_nv.append(new_nv[-1]*(1+test_y[i]))\n",
    "        elif (sig[i+1] == True) and (sig[i] == False):\n",
    "            new_nv.append(new_nv[-1]*(1-cost))\n",
    "        elif (sig[i+1] == False) and (sig[i] == False):\n",
    "            new_nv.append(new_nv[-1])\n",
    "        elif (sig[i+1] == False) and (sig[i] == True):\n",
    "            new_nv.append(new_nv[-1]*(1+test_y[i])*(1-cost))\n",
    "    return new_nv"
   ]
  },
  {
   "cell_type": "code",
   "execution_count": 13,
   "metadata": {},
   "outputs": [],
   "source": [
    "def fit_nv(test_predict,test_y):\n",
    "    ynv = [1]\n",
    "    prenv = [1]\n",
    "    for i in range(len(test_predict)):\n",
    "        ynv.append(ynv[-1]*(1+test_y[i]))\n",
    "        prenv.append(prenv[-1]*(1+test_predict[i]))\n",
    "    plot_result(prenv,ynv,['predict net value','test net value'])"
   ]
  },
  {
   "cell_type": "markdown",
   "metadata": {},
   "source": [
    "## Prediction  result"
   ]
  },
  {
   "cell_type": "code",
   "execution_count": 14,
   "metadata": {},
   "outputs": [
    {
     "name": "stdout",
     "output_type": "stream",
     "text": [
      "INFO:tensorflow:Restoring parameters from model_save2\\model.ckpt\n"
     ]
    },
    {
     "data": {
      "image/png": "[encoded data removed]",
      "text/plain": [
       "<matplotlib.figure.Figure at 0x21e4b47a978>"
      ]
     },
     "metadata": {},
     "output_type": "display_data"
    }
   ],
   "source": [
    "test_predict,test_y = prediction(cpt_name)\n",
    "plot_result(test_predict, test_y,['predict return','test return'],'result2_1.png')"
   ]
  },
  {
   "cell_type": "code",
   "execution_count": 15,
   "metadata": {},
   "outputs": [
    {
     "data": {
      "image/png": "[encoded data removed]",
      "text/plain": [
       "<matplotlib.figure.Figure at 0x21e4a16ebe0>"
      ]
     },
     "metadata": {},
     "output_type": "display_data"
    }
   ],
   "source": [
    "ynv = [1]\n",
    "prenv = [1]    \n",
    "def fit_nv(test_predict,test_y):\n",
    "    for i in range(len(test_predict)):\n",
    "        ynv.append(ynv[-1]*(1+test_y[i]))\n",
    "        prenv.append(prenv[-1]*(1+test_predict[i]))\n",
    "    plot_result(prenv,ynv,['predict net value','test net value'],'result2_2.png')\n",
    "fit_nv(test_predict,test_y)"
   ]
  },
  {
   "cell_type": "markdown",
   "metadata": {},
   "source": [
    "## My trading strategy result"
   ]
  },
  {
   "cell_type": "code",
   "execution_count": 16,
   "metadata": {},
   "outputs": [
    {
     "data": {
      "image/png": "[encoded data removed]",
      "text/plain": [
       "<matplotlib.figure.Figure at 0x21e4b49b748>"
      ]
     },
     "metadata": {},
     "output_type": "display_data"
    }
   ],
   "source": [
    "new_nv = buy_signal(test_predict,test_y)   \n",
    "plot_result(new_nv,ynv,['my net value','actual net value'],'result2_3.png')"
   ]
  },
  {
   "cell_type": "code",
   "execution_count": 17,
   "metadata": {},
   "outputs": [
    {
     "data": {
      "text/plain": [
       "0.6708333333333333"
      ]
     },
     "execution_count": 17,
     "metadata": {},
     "output_type": "execute_result"
    }
   ],
   "source": [
    "num = 0\n",
    "for i in range(len(test_y)):\n",
    "    if np.sign(test_predict[i])== np.sign(test_y[i]):\n",
    "        num = num + 1\n",
    "acc = num / len(test_y)\n",
    "acc"
   ]
  },
  {
   "cell_type": "code",
   "execution_count": null,
   "metadata": {},
   "outputs": [],
   "source": []
  }
 ],
 "metadata": {
  "kernelspec": {
   "display_name": "Python 3",
   "language": "python",
   "name": "python3"
  },
  "language_info": {
   "codemirror_mode": {
    "name": "ipython",
    "version": 3
   },
   "file_extension": ".py",
   "mimetype": "text/x-python",
   "name": "python",
   "nbconvert_exporter": "python",
   "pygments_lexer": "ipython3",
   "version": "3.6.4"
  }
 },
 "nbformat": 4,
 "nbformat_minor": 2
}
